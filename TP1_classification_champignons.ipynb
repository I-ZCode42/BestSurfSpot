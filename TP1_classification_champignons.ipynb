{
  "cells": [
    {
      "cell_type": "markdown",
      "metadata": {
        "id": "TQlBgoslvxSQ"
      },
      "source": [
        "## Machine Learning TP1 : Reconnaissance de Champignon"
      ]
    },
    {
      "cell_type": "markdown",
      "metadata": {
        "id": "RuqtM7VVvxSS"
      },
      "source": [
        "### Import des librairies"
      ]
    },
    {
      "cell_type": "code",
      "execution_count": null,
      "metadata": {
        "id": "BMldmuASvxSS"
      },
      "outputs": [],
      "source": [
        "import pandas as pd\n",
        "import numpy as np\n",
        "import os\n",
        "from IPython.display import Image, display\n",
        "\n",
        "from sklearn import preprocessing\n",
        "\n",
        "from sklearn.metrics import accuracy_score\n",
        "from sklearn import tree\n",
        "from sklearn import ensemble\n",
        "from sklearn.tree import export_graphviz\n",
        "# pd.set_option('display.max_rows', None) # Afficher toutes les lignes des dataframes\n",
        "# pd.set_option('display.max_columns', None) # Afficher toutes les lignes des dataframes"
      ]
    },
    {
      "cell_type": "markdown",
      "metadata": {
        "id": "NzfZRKzIvxST"
      },
      "source": [
        "### 1. Preparation des données"
      ]
    },
    {
      "cell_type": "markdown",
      "metadata": {
        "id": "ap9pLF_FvxST"
      },
      "source": [
        "1.1 importer et afficher les données dans un DataFrame.\n",
        "\n",
        "Afficher le nombre de champignons toxiques ou non.\n",
        "\n",
        "Vérifier qu'il n'y as pas de valeurs nulles"
      ]
    },
    {
      "cell_type": "markdown",
      "metadata": {
        "id": "PGroQzuXvxST"
      },
      "source": [
        "1.2 Encoder les données avec une colonne 1/0 par valeur possible.Eviter de générer une matrice \"sparse\"\\\n",
        "Afficher la taille des données (lignes x colonnes) et les noms de colonnes générées.\\\n",
        "https://scikit-learn.org/stable/modules/generated/sklearn.preprocessing.OneHotEncoder.html#sklearn.preprocessing.OneHotEncoder"
      ]
    },
    {
      "cell_type": "code",
      "execution_count": 8,
      "metadata": {
        "id": "3YeMdbFavxST",
        "outputId": "994287a9-363d-4aa1-d865-c7f9cbc6f874",
        "colab": {
          "base_uri": "https://localhost:8080/",
          "height": 258
        }
      },
      "outputs": [
        {
          "output_type": "stream",
          "name": "stdout",
          "text": [
            "numpy 1.26.4, pandas 2.2.2\n"
          ]
        },
        {
          "output_type": "execute_result",
          "data": {
            "text/plain": [
              "   id_champ    toxicite surface-chapeau ecchymoses attache-lamelles  \\\n",
              "0         0     toxique           lisse        oui            libre   \n",
              "1         1  comestible           lisse        oui            libre   \n",
              "2         2  comestible           lisse        oui            libre   \n",
              "3         3     toxique        écaillée        oui            libre   \n",
              "4         4  comestible           lisse        non            libre   \n",
              "\n",
              "  taille-lamelles   forme-pied surface-pied-sur-anneau  \\\n",
              "0          étroit  élargissant                   lisse   \n",
              "1           large  élargissant                   lisse   \n",
              "2           large  élargissant                   lisse   \n",
              "3          étroit  élargissant                   lisse   \n",
              "4           large       effilé                   lisse   \n",
              "\n",
              "  couleur-pied-sur-anneau couleur-voile type-anneau population  \n",
              "0                   blanc         blanc     pendant  dispersée  \n",
              "1                   blanc         blanc     pendant  nombreuse  \n",
              "2                   blanc         blanc     pendant  nombreuse  \n",
              "3                   blanc         blanc     pendant  dispersée  \n",
              "4                   blanc         blanc       évasé  abondante  "
            ],
            "text/html": [
              "\n",
              "  <div id=\"df-12c24fc1-9256-4907-84c1-5431518ab893\" class=\"colab-df-container\">\n",
              "    <div>\n",
              "<style scoped>\n",
              "    .dataframe tbody tr th:only-of-type {\n",
              "        vertical-align: middle;\n",
              "    }\n",
              "\n",
              "    .dataframe tbody tr th {\n",
              "        vertical-align: top;\n",
              "    }\n",
              "\n",
              "    .dataframe thead th {\n",
              "        text-align: right;\n",
              "    }\n",
              "</style>\n",
              "<table border=\"1\" class=\"dataframe\">\n",
              "  <thead>\n",
              "    <tr style=\"text-align: right;\">\n",
              "      <th></th>\n",
              "      <th>id_champ</th>\n",
              "      <th>toxicite</th>\n",
              "      <th>surface-chapeau</th>\n",
              "      <th>ecchymoses</th>\n",
              "      <th>attache-lamelles</th>\n",
              "      <th>taille-lamelles</th>\n",
              "      <th>forme-pied</th>\n",
              "      <th>surface-pied-sur-anneau</th>\n",
              "      <th>couleur-pied-sur-anneau</th>\n",
              "      <th>couleur-voile</th>\n",
              "      <th>type-anneau</th>\n",
              "      <th>population</th>\n",
              "    </tr>\n",
              "  </thead>\n",
              "  <tbody>\n",
              "    <tr>\n",
              "      <th>0</th>\n",
              "      <td>0</td>\n",
              "      <td>toxique</td>\n",
              "      <td>lisse</td>\n",
              "      <td>oui</td>\n",
              "      <td>libre</td>\n",
              "      <td>étroit</td>\n",
              "      <td>élargissant</td>\n",
              "      <td>lisse</td>\n",
              "      <td>blanc</td>\n",
              "      <td>blanc</td>\n",
              "      <td>pendant</td>\n",
              "      <td>dispersée</td>\n",
              "    </tr>\n",
              "    <tr>\n",
              "      <th>1</th>\n",
              "      <td>1</td>\n",
              "      <td>comestible</td>\n",
              "      <td>lisse</td>\n",
              "      <td>oui</td>\n",
              "      <td>libre</td>\n",
              "      <td>large</td>\n",
              "      <td>élargissant</td>\n",
              "      <td>lisse</td>\n",
              "      <td>blanc</td>\n",
              "      <td>blanc</td>\n",
              "      <td>pendant</td>\n",
              "      <td>nombreuse</td>\n",
              "    </tr>\n",
              "    <tr>\n",
              "      <th>2</th>\n",
              "      <td>2</td>\n",
              "      <td>comestible</td>\n",
              "      <td>lisse</td>\n",
              "      <td>oui</td>\n",
              "      <td>libre</td>\n",
              "      <td>large</td>\n",
              "      <td>élargissant</td>\n",
              "      <td>lisse</td>\n",
              "      <td>blanc</td>\n",
              "      <td>blanc</td>\n",
              "      <td>pendant</td>\n",
              "      <td>nombreuse</td>\n",
              "    </tr>\n",
              "    <tr>\n",
              "      <th>3</th>\n",
              "      <td>3</td>\n",
              "      <td>toxique</td>\n",
              "      <td>écaillée</td>\n",
              "      <td>oui</td>\n",
              "      <td>libre</td>\n",
              "      <td>étroit</td>\n",
              "      <td>élargissant</td>\n",
              "      <td>lisse</td>\n",
              "      <td>blanc</td>\n",
              "      <td>blanc</td>\n",
              "      <td>pendant</td>\n",
              "      <td>dispersée</td>\n",
              "    </tr>\n",
              "    <tr>\n",
              "      <th>4</th>\n",
              "      <td>4</td>\n",
              "      <td>comestible</td>\n",
              "      <td>lisse</td>\n",
              "      <td>non</td>\n",
              "      <td>libre</td>\n",
              "      <td>large</td>\n",
              "      <td>effilé</td>\n",
              "      <td>lisse</td>\n",
              "      <td>blanc</td>\n",
              "      <td>blanc</td>\n",
              "      <td>évasé</td>\n",
              "      <td>abondante</td>\n",
              "    </tr>\n",
              "  </tbody>\n",
              "</table>\n",
              "</div>\n",
              "    <div class=\"colab-df-buttons\">\n",
              "\n",
              "  <div class=\"colab-df-container\">\n",
              "    <button class=\"colab-df-convert\" onclick=\"convertToInteractive('df-12c24fc1-9256-4907-84c1-5431518ab893')\"\n",
              "            title=\"Convert this dataframe to an interactive table.\"\n",
              "            style=\"display:none;\">\n",
              "\n",
              "  <svg xmlns=\"http://www.w3.org/2000/svg\" height=\"24px\" viewBox=\"0 -960 960 960\">\n",
              "    <path d=\"M120-120v-720h720v720H120Zm60-500h600v-160H180v160Zm220 220h160v-160H400v160Zm0 220h160v-160H400v160ZM180-400h160v-160H180v160Zm440 0h160v-160H620v160ZM180-180h160v-160H180v160Zm440 0h160v-160H620v160Z\"/>\n",
              "  </svg>\n",
              "    </button>\n",
              "\n",
              "  <style>\n",
              "    .colab-df-container {\n",
              "      display:flex;\n",
              "      gap: 12px;\n",
              "    }\n",
              "\n",
              "    .colab-df-convert {\n",
              "      background-color: #E8F0FE;\n",
              "      border: none;\n",
              "      border-radius: 50%;\n",
              "      cursor: pointer;\n",
              "      display: none;\n",
              "      fill: #1967D2;\n",
              "      height: 32px;\n",
              "      padding: 0 0 0 0;\n",
              "      width: 32px;\n",
              "    }\n",
              "\n",
              "    .colab-df-convert:hover {\n",
              "      background-color: #E2EBFA;\n",
              "      box-shadow: 0px 1px 2px rgba(60, 64, 67, 0.3), 0px 1px 3px 1px rgba(60, 64, 67, 0.15);\n",
              "      fill: #174EA6;\n",
              "    }\n",
              "\n",
              "    .colab-df-buttons div {\n",
              "      margin-bottom: 4px;\n",
              "    }\n",
              "\n",
              "    [theme=dark] .colab-df-convert {\n",
              "      background-color: #3B4455;\n",
              "      fill: #D2E3FC;\n",
              "    }\n",
              "\n",
              "    [theme=dark] .colab-df-convert:hover {\n",
              "      background-color: #434B5C;\n",
              "      box-shadow: 0px 1px 3px 1px rgba(0, 0, 0, 0.15);\n",
              "      filter: drop-shadow(0px 1px 2px rgba(0, 0, 0, 0.3));\n",
              "      fill: #FFFFFF;\n",
              "    }\n",
              "  </style>\n",
              "\n",
              "    <script>\n",
              "      const buttonEl =\n",
              "        document.querySelector('#df-12c24fc1-9256-4907-84c1-5431518ab893 button.colab-df-convert');\n",
              "      buttonEl.style.display =\n",
              "        google.colab.kernel.accessAllowed ? 'block' : 'none';\n",
              "\n",
              "      async function convertToInteractive(key) {\n",
              "        const element = document.querySelector('#df-12c24fc1-9256-4907-84c1-5431518ab893');\n",
              "        const dataTable =\n",
              "          await google.colab.kernel.invokeFunction('convertToInteractive',\n",
              "                                                    [key], {});\n",
              "        if (!dataTable) return;\n",
              "\n",
              "        const docLinkHtml = 'Like what you see? Visit the ' +\n",
              "          '<a target=\"_blank\" href=https://colab.research.google.com/notebooks/data_table.ipynb>data table notebook</a>'\n",
              "          + ' to learn more about interactive tables.';\n",
              "        element.innerHTML = '';\n",
              "        dataTable['output_type'] = 'display_data';\n",
              "        await google.colab.output.renderOutput(dataTable, element);\n",
              "        const docLink = document.createElement('div');\n",
              "        docLink.innerHTML = docLinkHtml;\n",
              "        element.appendChild(docLink);\n",
              "      }\n",
              "    </script>\n",
              "  </div>\n",
              "\n",
              "\n",
              "<div id=\"df-d33ad6d1-26d2-4862-8866-8dbcc879a1ea\">\n",
              "  <button class=\"colab-df-quickchart\" onclick=\"quickchart('df-d33ad6d1-26d2-4862-8866-8dbcc879a1ea')\"\n",
              "            title=\"Suggest charts\"\n",
              "            style=\"display:none;\">\n",
              "\n",
              "<svg xmlns=\"http://www.w3.org/2000/svg\" height=\"24px\"viewBox=\"0 0 24 24\"\n",
              "     width=\"24px\">\n",
              "    <g>\n",
              "        <path d=\"M19 3H5c-1.1 0-2 .9-2 2v14c0 1.1.9 2 2 2h14c1.1 0 2-.9 2-2V5c0-1.1-.9-2-2-2zM9 17H7v-7h2v7zm4 0h-2V7h2v10zm4 0h-2v-4h2v4z\"/>\n",
              "    </g>\n",
              "</svg>\n",
              "  </button>\n",
              "\n",
              "<style>\n",
              "  .colab-df-quickchart {\n",
              "      --bg-color: #E8F0FE;\n",
              "      --fill-color: #1967D2;\n",
              "      --hover-bg-color: #E2EBFA;\n",
              "      --hover-fill-color: #174EA6;\n",
              "      --disabled-fill-color: #AAA;\n",
              "      --disabled-bg-color: #DDD;\n",
              "  }\n",
              "\n",
              "  [theme=dark] .colab-df-quickchart {\n",
              "      --bg-color: #3B4455;\n",
              "      --fill-color: #D2E3FC;\n",
              "      --hover-bg-color: #434B5C;\n",
              "      --hover-fill-color: #FFFFFF;\n",
              "      --disabled-bg-color: #3B4455;\n",
              "      --disabled-fill-color: #666;\n",
              "  }\n",
              "\n",
              "  .colab-df-quickchart {\n",
              "    background-color: var(--bg-color);\n",
              "    border: none;\n",
              "    border-radius: 50%;\n",
              "    cursor: pointer;\n",
              "    display: none;\n",
              "    fill: var(--fill-color);\n",
              "    height: 32px;\n",
              "    padding: 0;\n",
              "    width: 32px;\n",
              "  }\n",
              "\n",
              "  .colab-df-quickchart:hover {\n",
              "    background-color: var(--hover-bg-color);\n",
              "    box-shadow: 0 1px 2px rgba(60, 64, 67, 0.3), 0 1px 3px 1px rgba(60, 64, 67, 0.15);\n",
              "    fill: var(--button-hover-fill-color);\n",
              "  }\n",
              "\n",
              "  .colab-df-quickchart-complete:disabled,\n",
              "  .colab-df-quickchart-complete:disabled:hover {\n",
              "    background-color: var(--disabled-bg-color);\n",
              "    fill: var(--disabled-fill-color);\n",
              "    box-shadow: none;\n",
              "  }\n",
              "\n",
              "  .colab-df-spinner {\n",
              "    border: 2px solid var(--fill-color);\n",
              "    border-color: transparent;\n",
              "    border-bottom-color: var(--fill-color);\n",
              "    animation:\n",
              "      spin 1s steps(1) infinite;\n",
              "  }\n",
              "\n",
              "  @keyframes spin {\n",
              "    0% {\n",
              "      border-color: transparent;\n",
              "      border-bottom-color: var(--fill-color);\n",
              "      border-left-color: var(--fill-color);\n",
              "    }\n",
              "    20% {\n",
              "      border-color: transparent;\n",
              "      border-left-color: var(--fill-color);\n",
              "      border-top-color: var(--fill-color);\n",
              "    }\n",
              "    30% {\n",
              "      border-color: transparent;\n",
              "      border-left-color: var(--fill-color);\n",
              "      border-top-color: var(--fill-color);\n",
              "      border-right-color: var(--fill-color);\n",
              "    }\n",
              "    40% {\n",
              "      border-color: transparent;\n",
              "      border-right-color: var(--fill-color);\n",
              "      border-top-color: var(--fill-color);\n",
              "    }\n",
              "    60% {\n",
              "      border-color: transparent;\n",
              "      border-right-color: var(--fill-color);\n",
              "    }\n",
              "    80% {\n",
              "      border-color: transparent;\n",
              "      border-right-color: var(--fill-color);\n",
              "      border-bottom-color: var(--fill-color);\n",
              "    }\n",
              "    90% {\n",
              "      border-color: transparent;\n",
              "      border-bottom-color: var(--fill-color);\n",
              "    }\n",
              "  }\n",
              "</style>\n",
              "\n",
              "  <script>\n",
              "    async function quickchart(key) {\n",
              "      const quickchartButtonEl =\n",
              "        document.querySelector('#' + key + ' button');\n",
              "      quickchartButtonEl.disabled = true;  // To prevent multiple clicks.\n",
              "      quickchartButtonEl.classList.add('colab-df-spinner');\n",
              "      try {\n",
              "        const charts = await google.colab.kernel.invokeFunction(\n",
              "            'suggestCharts', [key], {});\n",
              "      } catch (error) {\n",
              "        console.error('Error during call to suggestCharts:', error);\n",
              "      }\n",
              "      quickchartButtonEl.classList.remove('colab-df-spinner');\n",
              "      quickchartButtonEl.classList.add('colab-df-quickchart-complete');\n",
              "    }\n",
              "    (() => {\n",
              "      let quickchartButtonEl =\n",
              "        document.querySelector('#df-d33ad6d1-26d2-4862-8866-8dbcc879a1ea button');\n",
              "      quickchartButtonEl.style.display =\n",
              "        google.colab.kernel.accessAllowed ? 'block' : 'none';\n",
              "    })();\n",
              "  </script>\n",
              "</div>\n",
              "\n",
              "    </div>\n",
              "  </div>\n"
            ],
            "application/vnd.google.colaboratory.intrinsic+json": {
              "type": "dataframe",
              "variable_name": "my_dataframe",
              "summary": "{\n  \"name\": \"my_dataframe\",\n  \"rows\": 8124,\n  \"fields\": [\n    {\n      \"column\": \"id_champ\",\n      \"properties\": {\n        \"dtype\": \"number\",\n        \"std\": 2345,\n        \"min\": 0,\n        \"max\": 8123,\n        \"num_unique_values\": 8124,\n        \"samples\": [\n          1971,\n          6654,\n          5606\n        ],\n        \"semantic_type\": \"\",\n        \"description\": \"\"\n      }\n    },\n    {\n      \"column\": \"toxicite\",\n      \"properties\": {\n        \"dtype\": \"category\",\n        \"num_unique_values\": 2,\n        \"samples\": [\n          \"comestible\",\n          \"toxique\"\n        ],\n        \"semantic_type\": \"\",\n        \"description\": \"\"\n      }\n    },\n    {\n      \"column\": \"surface-chapeau\",\n      \"properties\": {\n        \"dtype\": \"category\",\n        \"num_unique_values\": 4,\n        \"samples\": [\n          \"\\u00e9caill\\u00e9e\",\n          \"rainur\\u00e9e\"\n        ],\n        \"semantic_type\": \"\",\n        \"description\": \"\"\n      }\n    },\n    {\n      \"column\": \"ecchymoses\",\n      \"properties\": {\n        \"dtype\": \"category\",\n        \"num_unique_values\": 2,\n        \"samples\": [\n          \"non\",\n          \"oui\"\n        ],\n        \"semantic_type\": \"\",\n        \"description\": \"\"\n      }\n    },\n    {\n      \"column\": \"attache-lamelles\",\n      \"properties\": {\n        \"dtype\": \"category\",\n        \"num_unique_values\": 2,\n        \"samples\": [\n          \"adh\\u00e9rent\",\n          \"libre\"\n        ],\n        \"semantic_type\": \"\",\n        \"description\": \"\"\n      }\n    },\n    {\n      \"column\": \"taille-lamelles\",\n      \"properties\": {\n        \"dtype\": \"category\",\n        \"num_unique_values\": 2,\n        \"samples\": [\n          \"large\",\n          \"\\u00e9troit\"\n        ],\n        \"semantic_type\": \"\",\n        \"description\": \"\"\n      }\n    },\n    {\n      \"column\": \"forme-pied\",\n      \"properties\": {\n        \"dtype\": \"category\",\n        \"num_unique_values\": 2,\n        \"samples\": [\n          \"effil\\u00e9\",\n          \"\\u00e9largissant\"\n        ],\n        \"semantic_type\": \"\",\n        \"description\": \"\"\n      }\n    },\n    {\n      \"column\": \"surface-pied-sur-anneau\",\n      \"properties\": {\n        \"dtype\": \"category\",\n        \"num_unique_values\": 4,\n        \"samples\": [\n          \"fibreuse\",\n          \"\\u00e9caill\\u00e9e\"\n        ],\n        \"semantic_type\": \"\",\n        \"description\": \"\"\n      }\n    },\n    {\n      \"column\": \"couleur-pied-sur-anneau\",\n      \"properties\": {\n        \"dtype\": \"category\",\n        \"num_unique_values\": 9,\n        \"samples\": [\n          \"cannelle\",\n          \"gris\"\n        ],\n        \"semantic_type\": \"\",\n        \"description\": \"\"\n      }\n    },\n    {\n      \"column\": \"couleur-voile\",\n      \"properties\": {\n        \"dtype\": \"category\",\n        \"num_unique_values\": 4,\n        \"samples\": [\n          \"brun\",\n          \"jaune\"\n        ],\n        \"semantic_type\": \"\",\n        \"description\": \"\"\n      }\n    },\n    {\n      \"column\": \"type-anneau\",\n      \"properties\": {\n        \"dtype\": \"category\",\n        \"num_unique_values\": 5,\n        \"samples\": [\n          \"\\u00e9vas\\u00e9\",\n          \"aucun\"\n        ],\n        \"semantic_type\": \"\",\n        \"description\": \"\"\n      }\n    },\n    {\n      \"column\": \"population\",\n      \"properties\": {\n        \"dtype\": \"category\",\n        \"num_unique_values\": 6,\n        \"samples\": [\n          \"dispers\\u00e9e\",\n          \"nombreuse\"\n        ],\n        \"semantic_type\": \"\",\n        \"description\": \"\"\n      }\n    }\n  ]\n}"
            }
          },
          "metadata": {},
          "execution_count": 8
        }
      ],
      "source": [
        "import numpy as np\n",
        "import pandas as pd\n",
        "\n",
        "print('numpy %s, pandas %s'%(np.__version__,pd.__version__))\n",
        "df = pd.read_csv('/content/champignons.csv')\n",
        "df.head()\n",
        "\n",
        "my_dataframe = pd.read_csv('champignons.csv', dtype={'id_champ': int})\n",
        "my_dataframe\n",
        "\n",
        "my_dataframe.reset_index(inplace=True)\n",
        "my_dataframe.rename(columns={'index': 'id_champ'}, inplace=True)\n",
        "my_dataframe.head()"
      ]
    },
    {
      "cell_type": "code",
      "source": [],
      "metadata": {
        "id": "vA2S9wR1xmbS"
      },
      "execution_count": null,
      "outputs": []
    },
    {
      "cell_type": "code",
      "source": [],
      "metadata": {
        "id": "A8M2d_BAxpx5"
      },
      "execution_count": null,
      "outputs": []
    },
    {
      "cell_type": "code",
      "source": [],
      "metadata": {
        "id": "9mHCOLjoxpZr"
      },
      "execution_count": null,
      "outputs": []
    },
    {
      "cell_type": "code",
      "source": [],
      "metadata": {
        "id": "gx7l9jJbxqi2"
      },
      "execution_count": null,
      "outputs": []
    },
    {
      "cell_type": "markdown",
      "metadata": {
        "id": "aWn6XyZRvxST"
      },
      "source": [
        "1.3 Créer un nouveau DataFrame avec les données et les noms de colonne. Mélanger les données. Afficher le résultat."
      ]
    },
    {
      "cell_type": "code",
      "execution_count": null,
      "metadata": {
        "id": "JOlVXq2fvxST"
      },
      "outputs": [],
      "source": []
    },
    {
      "cell_type": "markdown",
      "metadata": {
        "id": "UF4h9-umvxST"
      },
      "source": [
        "1.4 Creer 4 jeux de données : train features et labels (70%) et dev features et labels (30%).\\\n",
        "Utiliser toxicite_toxique comme label. Ne pas garder de label (toxicite_toxique et toxicite_comestible) dans les features !"
      ]
    },
    {
      "cell_type": "code",
      "execution_count": null,
      "metadata": {
        "id": "7Zr231APvxST"
      },
      "outputs": [],
      "source": []
    },
    {
      "cell_type": "markdown",
      "metadata": {
        "id": "MRuaQrFVvxSU"
      },
      "source": [
        "## 2. Arbre de décision"
      ]
    },
    {
      "cell_type": "markdown",
      "metadata": {
        "id": "C2svKJtkvxSU"
      },
      "source": [
        "2.1 Entrainer un arbre de décision sur les données d'apprentissage. Afficher l'arbre obtenu en utilisant plot_tree."
      ]
    },
    {
      "cell_type": "code",
      "execution_count": null,
      "metadata": {
        "id": "gfZVGZbNvxSU"
      },
      "outputs": [],
      "source": [
        "import matplotlib.pyplot as plt"
      ]
    },
    {
      "cell_type": "markdown",
      "metadata": {
        "id": "SJNfeMpPvxSU"
      },
      "source": [
        "2.2 Afficher l'arbre obtenu en utilisant graphwiz"
      ]
    },
    {
      "cell_type": "code",
      "execution_count": null,
      "metadata": {
        "id": "ZwX2FeyavxSU"
      },
      "outputs": [],
      "source": []
    },
    {
      "cell_type": "markdown",
      "metadata": {
        "id": "2rW880M9vxSU"
      },
      "source": [
        "2.3 Mesurer la précision du modèle sur les données de dev"
      ]
    },
    {
      "cell_type": "code",
      "execution_count": null,
      "metadata": {
        "id": "ia9pefTQvxSU"
      },
      "outputs": [],
      "source": []
    },
    {
      "cell_type": "markdown",
      "metadata": {
        "id": "WiU_DEdevxSU"
      },
      "source": [
        "## 3. Modèle de forêt"
      ]
    },
    {
      "cell_type": "markdown",
      "metadata": {
        "id": "Ib_uZwzqvxSU"
      },
      "source": [
        "3.1 Réalisez un algorithme de Random Forest sur les données. Utiliser 500 arbres et une profondeur de 6."
      ]
    },
    {
      "cell_type": "code",
      "execution_count": null,
      "metadata": {
        "id": "xTGheFwpvxSU"
      },
      "outputs": [],
      "source": []
    },
    {
      "cell_type": "markdown",
      "metadata": {
        "id": "Ys3pLKYYvxSU"
      },
      "source": [
        "3.2 Afficher trois arbres au hasard."
      ]
    },
    {
      "cell_type": "code",
      "execution_count": null,
      "metadata": {
        "id": "K3mJe5-tvxSU"
      },
      "outputs": [],
      "source": [
        "from random import randint\n"
      ]
    },
    {
      "cell_type": "markdown",
      "metadata": {
        "id": "bNsB8zFhvxSU"
      },
      "source": [
        "3.3 Mesurer la précision du modèle Random Forest sur les données de dev"
      ]
    },
    {
      "cell_type": "code",
      "execution_count": null,
      "metadata": {
        "id": "kkqmiON4vxSU"
      },
      "outputs": [],
      "source": []
    },
    {
      "cell_type": "markdown",
      "metadata": {
        "id": "BVQ3l2XzvxSU"
      },
      "source": [
        "## 4. optimisation des paramètres"
      ]
    },
    {
      "cell_type": "markdown",
      "metadata": {
        "id": "dMfzRTR6vxSU"
      },
      "source": [
        "4.1 chercher l'ensembles de données la meilleure combinaison sur max_depth/n_estimator.\n",
        "\n",
        "Afficher les paramètre du modèle et a précision obtenue.\n",
        "\n",
        "Réexécuter un apprentissage avec la meilleure combinaison.\n"
      ]
    },
    {
      "cell_type": "code",
      "execution_count": null,
      "metadata": {
        "id": "ABd-lvdovxSU"
      },
      "outputs": [],
      "source": [
        "from sklearn.model_selection import GridSearchCV\n"
      ]
    },
    {
      "cell_type": "markdown",
      "metadata": {
        "id": "g8jisNz8vxSV"
      },
      "source": [
        "4.2 Afficher les paramètres optimaux et la précisions obtenue sur les données dev"
      ]
    },
    {
      "cell_type": "code",
      "execution_count": null,
      "metadata": {
        "id": "1rxrkv2EvxSV"
      },
      "outputs": [],
      "source": []
    },
    {
      "cell_type": "markdown",
      "metadata": {
        "id": "4UrRKsIovxSV"
      },
      "source": [
        "4.3 Classer et Afficher les caractéristiques d'importance supérieure à 1%"
      ]
    },
    {
      "cell_type": "code",
      "execution_count": null,
      "metadata": {
        "id": "4ka9xne6vxSV"
      },
      "outputs": [],
      "source": []
    },
    {
      "cell_type": "markdown",
      "metadata": {
        "id": "nZlWVV7pvxSV"
      },
      "source": [
        "## 5. Stacking\n",
        "\n",
        "Essayer différents modèles d'estimateur final"
      ]
    },
    {
      "cell_type": "code",
      "execution_count": null,
      "metadata": {
        "id": "moMCFm2KvxSV"
      },
      "outputs": [],
      "source": [
        "from sklearn.pipeline import make_pipeline\n",
        "from sklearn.preprocessing import StandardScaler\n",
        "from sklearn.svm import SVC\n",
        "from sklearn.linear_model import LogisticRegression\n",
        "from sklearn.naive_bayes import GaussianNB\n",
        "from sklearn.linear_model import Perceptron\n",
        "from sklearn.ensemble import StackingClassifier\n"
      ]
    },
    {
      "cell_type": "markdown",
      "metadata": {
        "id": "B-nGCvtSvxSV"
      },
      "source": [
        "## 6. Gradient Boosting"
      ]
    },
    {
      "cell_type": "markdown",
      "metadata": {
        "id": "isUvfvG-vxSV"
      },
      "source": [
        "6. Exécuter un apprentissage de Gradient Boosting avec et sans \"Early Stopping\" sur le nombre d'estimateurs. Comparer avec le résultat sur les données dev."
      ]
    },
    {
      "cell_type": "code",
      "execution_count": null,
      "metadata": {
        "id": "9gSnHUYSvxSV"
      },
      "outputs": [],
      "source": []
    },
    {
      "cell_type": "markdown",
      "metadata": {
        "id": "3noiQuGSvxSV"
      },
      "source": [
        "## 7. (Optionnel) Recommencer les exercices précédents en utilisant les \"ordinal encoders\". Que remarquez-vous ?"
      ]
    }
  ],
  "metadata": {
    "kernelspec": {
      "display_name": "Python 3",
      "language": "python",
      "name": "python3"
    },
    "language_info": {
      "codemirror_mode": {
        "name": "ipython",
        "version": 3
      },
      "file_extension": ".py",
      "mimetype": "text/x-python",
      "name": "python",
      "nbconvert_exporter": "python",
      "pygments_lexer": "ipython3",
      "version": "3.12.4"
    },
    "orig_nbformat": 4,
    "colab": {
      "provenance": []
    }
  },
  "nbformat": 4,
  "nbformat_minor": 0
}